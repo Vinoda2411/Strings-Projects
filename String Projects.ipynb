{
 "cells": [
  {
   "cell_type": "markdown",
   "id": "3e365348",
   "metadata": {},
   "source": [
    "# Strings and String Methods\n"
   ]
  },
  {
   "cell_type": "code",
   "execution_count": null,
   "id": "887195f0",
   "metadata": {},
   "outputs": [],
   "source": [
    "#Strings\n",
    "# string is a collection of characters or alphabets or words\n",
    "# string is immutable, means can't update string without changing its identity\n",
    "# string express either in single quotes (' ') or double quotes (\" \")\n",
    "# String is order, so we can do indexing and slicing\n",
    "# Always slice nrs lower to higher only"
   ]
  },
  {
   "cell_type": "markdown",
   "id": "c56910fe",
   "metadata": {},
   "source": [
    "# Password Strength Checker"
   ]
  },
  {
   "cell_type": "code",
   "execution_count": 2,
   "id": "199d8c96",
   "metadata": {},
   "outputs": [
    {
     "name": "stdout",
     "output_type": "stream",
     "text": [
      "Enter your password: vinoda\n",
      "\n",
      "Password Check:\n",
      "✔️ Length >= 8: False\n",
      "✔️ Lowercase letter: True\n",
      "✔️ Uppercase letter: False\n",
      "✔️ Digit: False\n",
      "✔️ Special character: False\n",
      "\n",
      "Password Strength: 🟢 Strong Password\n"
     ]
    }
   ],
   "source": [
    "import string\n",
    "\n",
    "def check_password_strength(password):\n",
    "    # Define criteria\n",
    "    length = len(password) >= 8\n",
    "    lowercase = any(c.islower() for c in password)\n",
    "    uppercase = any(c.isupper() for c in password)\n",
    "    digit = any(c.isdigit() for c in password)\n",
    "    special = any(c in string.punctuation for c in password)\n",
    "\n",
    "    # Count how many conditions are met\n",
    "    score = sum([length, lowercase, uppercase, digit, special])\n",
    "\n",
    "    # Provide feedback\n",
    "    print(\"\\nPassword Check:\")\n",
    "    print(\"✔️ Length >= 8:\", length)\n",
    "    print(\"✔️ Lowercase letter:\", lowercase)\n",
    "    print(\"✔️ Uppercase letter:\", uppercase)\n",
    "    print(\"✔️ Digit:\", digit)\n",
    "    print(\"✔️ Special character:\", special)\n",
    "\n",
    "    # Classification\n",
    "    if score == 5:\n",
    "        return \"🟢 Strong Password\"\n",
    "    elif 3 <= score < 5:\n",
    "        return \"🟡 Moderate Password\"\n",
    "    else:\n",
    "        return \"🔴 Weak Password\"\n",
    "\n",
    "# Input\n",
    "user_password = input(\"Enter your password: \")\n",
    "strength = check_password_strength(user_password)\n",
    "print(\"\\nPassword Strength:\", strength)\n"
   ]
  },
  {
   "cell_type": "markdown",
   "id": "00bac3f1",
   "metadata": {},
   "source": [
    "# Palindrome Checker"
   ]
  },
  {
   "cell_type": "code",
   "execution_count": 25,
   "id": "20ec6573",
   "metadata": {},
   "outputs": [
    {
     "name": "stdout",
     "output_type": "stream",
     "text": [
      "Enter a word or sentence: 121\n",
      "✅ It's a palindrome!\n"
     ]
    }
   ],
   "source": [
    "def is_palindrome(text):\n",
    "    # Remove spaces and convert to lowercase\n",
    "    cleaned = text.replace(\" \", \"\").lower()\n",
    "    \n",
    "    # Compare string with its reverse\n",
    "    return cleaned == cleaned[::-1]\n",
    "\n",
    "# User input\n",
    "word = input(\"Enter a word or sentence: \")\n",
    "\n",
    "# Result\n",
    "if is_palindrome(word):\n",
    "    print(\"✅ It's a palindrome!\")\n",
    "else:\n",
    "    print(\"❌ Not a palindrome.\")\n"
   ]
  },
  {
   "cell_type": "code",
   "execution_count": null,
   "id": "36b7b51f",
   "metadata": {},
   "outputs": [],
   "source": []
  }
 ],
 "metadata": {
  "kernelspec": {
   "display_name": "Python 3 (ipykernel)",
   "language": "python",
   "name": "python3"
  },
  "language_info": {
   "codemirror_mode": {
    "name": "ipython",
    "version": 3
   },
   "file_extension": ".py",
   "mimetype": "text/x-python",
   "name": "python",
   "nbconvert_exporter": "python",
   "pygments_lexer": "ipython3",
   "version": "3.11.5"
  }
 },
 "nbformat": 4,
 "nbformat_minor": 5
}
